{
 "cells": [
  {
   "cell_type": "markdown",
   "metadata": {
    "nbpresent": {
     "id": "1d234e3f-af8b-4757-83f3-241b04b7a511"
    }
   },
   "source": [
    "# Class Challenge: Image Classification of COVID-19 X-rays\n",
    "# Task 2 [Total points: 30]"
   ]
  },
  {
   "cell_type": "markdown",
   "metadata": {
    "nbpresent": {
     "id": "b07b9992-b592-4871-9f9a-3b0ae5fa8b5f"
    }
   },
   "source": [
    "## Setup\n",
    "\n",
    "* This assignment involves the following packages: 'matplotlib', 'numpy', and 'sklearn'. \n",
    "\n",
    "* If you are using conda, use the following commands to install the above packages:<br>\n",
    "```shell\n",
    "conda install matplotlib\n",
    "conda install numpy\n",
    "conda install -c anaconda scikit-learn\n",
    "```\n",
    "\n",
    "* If you are using pip, use use the following commands to install the above packages: <br> \n",
    "```shell\n",
    "pip install matplotlib\n",
    "pip install numpy\n",
    "pip install sklearn\n",
    "```"
   ]
  },
  {
   "cell_type": "markdown",
   "metadata": {
    "nbpresent": {
     "id": "5516f610-f00c-43c3-bf19-4cf7ab9c089f"
    }
   },
   "source": [
    "## Data\n",
    "\n",
    "Please download the data using the following link: [COVID-19](https://drive.google.com/file/d/1Y88tgqpQ1Pjko_7rntcPowOJs_QNOrJ-/view). \n",
    "\n",
    "* After downloading 'Covid_Data_GradientCrescent.zip', unzip the file and you should see the following data structure:\n",
    "\n",
    "\n",
    "|--all<br>\n",
    "|--------train<br>\n",
    "|--------test<br>\n",
    "|--two<br>\n",
    "|--------train<br>\n",
    "|--------test<br>\n",
    "\n",
    "\n",
    "* Put the 'all' folder, the 'two' folder and this python notebook in the **same directory** so that the following code can correctly locate the data.  \n",
    "\n"
   ]
  },
  {
   "cell_type": "markdown",
   "metadata": {
    "nbpresent": {
     "id": "66140980-2aa4-457f-b1df-74c10c234cc2"
    }
   },
   "source": [
    "## [20 points] Multi-class Classification"
   ]
  },
  {
   "cell_type": "code",
   "execution_count": 1,
   "metadata": {
    "nbpresent": {
     "id": "5e05f980-3d14-4367-b3d1-664249145b13"
    },
    "scrolled": true
   },
   "outputs": [
    {
     "data": {
      "text/plain": [
       "'2.4.1'"
      ]
     },
     "execution_count": 1,
     "metadata": {},
     "output_type": "execute_result"
    }
   ],
   "source": [
    "import os\n",
    "\n",
    "import tensorflow as tf\n",
    "import numpy as np\n",
    "import matplotlib.pyplot as plt\n",
    "from tensorflow.keras.preprocessing.image import ImageDataGenerator\n",
    "from keras.applications.vgg16 import VGG16\n",
    "from keras.models import Sequential\n",
    "from keras.layers import Dense, Conv2D, MaxPool2D , Flatten, Dropout\n",
    "import seaborn as sns\n",
    "from sklearn.manifold import TSNE\n",
    "import tensorflow.keras.models as models\n",
    "import seaborn as sns\n",
    "from keras.regularizers import l2\n",
    "import time\n",
    "\n",
    "os.environ['OMP_NUM_THREADS'] = '1'\n",
    "os.environ['CUDA_VISIBLE_DEVICES'] = '-1'\n",
    "tf.__version__"
   ]
  },
  {
   "cell_type": "markdown",
   "metadata": {
    "nbpresent": {
     "id": "66140980-2aa4-457f-b1df-74c10c234cc2"
    }
   },
   "source": [
    "#### Load Image Data"
   ]
  },
  {
   "cell_type": "code",
   "execution_count": 2,
   "metadata": {
    "nbpresent": {
     "id": "58317664-8da3-4283-b3e5-35721687e7ab"
    }
   },
   "outputs": [],
   "source": [
    "DATA_LIST = os.listdir('all/train')\n",
    "DATASET_PATH  = 'all/train'\n",
    "TEST_DIR =  'all/test'\n",
    "IMAGE_SIZE    = (224, 224)\n",
    "NUM_CLASSES   = len(DATA_LIST)\n",
    "BATCH_SIZE    = 10  # try reducing batch size or freeze more layers if your GPU runs out of memory\n",
    "NUM_EPOCHS    = 100\n",
    "LEARNING_RATE = 0.0001 # start off with high rate first 0.001 and experiment with reducing it gradually "
   ]
  },
  {
   "cell_type": "markdown",
   "metadata": {
    "nbpresent": {
     "id": "66140980-2aa4-457f-b1df-74c10c234cc2"
    }
   },
   "source": [
    "#### Generate Training and Validation Batches"
   ]
  },
  {
   "cell_type": "code",
   "execution_count": 3,
   "metadata": {
    "nbpresent": {
     "id": "71760e29-2b08-4259-93f1-ebe68cd74a6d"
    }
   },
   "outputs": [
    {
     "name": "stdout",
     "output_type": "stream",
     "text": [
      "Found 216 images belonging to 4 classes.\n",
      "Found 54 images belonging to 4 classes.\n"
     ]
    }
   ],
   "source": [
    "# train_datagen = ImageDataGenerator(rescale=1./255,rotation_range=50,featurewise_center = True,\n",
    "#                                    featurewise_std_normalization = True,width_shift_range=0.2,\n",
    "#                                    height_shift_range=0.2,shear_range=0.25,zoom_range=0.1,\n",
    "#                                    zca_whitening = True,channel_shift_range = 20,\n",
    "#                                    horizontal_flip = True,vertical_flip = True,\n",
    "#                                    validation_split = 0.2,fill_mode='constant')\n",
    "\n",
    "train_datagen = ImageDataGenerator(rescale=1./255,rotation_range=50,featurewise_center = True,\n",
    "                                   featurewise_std_normalization = True,width_shift_range=0.2,\n",
    "                                   height_shift_range=0.2,shear_range=0.25,zoom_range=0.1,\n",
    "                                   channel_shift_range = 20,\n",
    "                                   horizontal_flip = True,vertical_flip = True,\n",
    "                                   validation_split = 0.2,fill_mode='constant')\n",
    "\n",
    "train_batches = train_datagen.flow_from_directory(DATASET_PATH,target_size=IMAGE_SIZE,\n",
    "                                                  shuffle=True,batch_size=BATCH_SIZE,\n",
    "                                                  subset = \"training\",seed=42,\n",
    "                                                  class_mode=\"categorical\")\n",
    "\n",
    "valid_batches = train_datagen.flow_from_directory(DATASET_PATH,target_size=IMAGE_SIZE,\n",
    "                                                  shuffle=True,batch_size=BATCH_SIZE,\n",
    "                                                  subset = \"validation\",\n",
    "                                                  seed=42,class_mode=\"categorical\")"
   ]
  },
  {
   "cell_type": "markdown",
   "metadata": {
    "nbpresent": {
     "id": "66140980-2aa4-457f-b1df-74c10c234cc2"
    }
   },
   "source": [
    "#### [10 points] Build Model\n",
    "Hint: Starting from a pre-trained model typically helps performance on a new task, e.g. starting with weights obtained by training on ImageNet. "
   ]
  },
  {
   "cell_type": "code",
   "execution_count": 4,
   "metadata": {},
   "outputs": [
    {
     "name": "stdout",
     "output_type": "stream",
     "text": [
      "Model: \"sequential\"\n",
      "_________________________________________________________________\n",
      "Layer (type)                 Output Shape              Param #   \n",
      "=================================================================\n",
      "inception_v3 (Functional)    (None, 5, 5, 2048)        21802784  \n",
      "_________________________________________________________________\n",
      "batch_normalization_94 (Batc (None, 5, 5, 2048)        8192      \n",
      "_________________________________________________________________\n",
      "flatten (Flatten)            (None, 51200)             0         \n",
      "_________________________________________________________________\n",
      "densefn (Dense)              (None, 256)               13107456  \n",
      "_________________________________________________________________\n",
      "dropout (Dropout)            (None, 256)               0         \n",
      "_________________________________________________________________\n",
      "dense (Dense)                (None, 4)                 1028      \n",
      "_________________________________________________________________\n",
      "activation_94 (Activation)   (None, 4)                 0         \n",
      "=================================================================\n",
      "Total params: 34,919,460\n",
      "Trainable params: 13,112,580\n",
      "Non-trainable params: 21,806,880\n",
      "_________________________________________________________________\n"
     ]
    }
   ],
   "source": [
    "model = Sequential()\n",
    "layer1 = tf.keras.applications.InceptionV3(include_top=False, weights=\"imagenet\", input_shape = (224,224,3), classes=4)\n",
    "# layer1.trainable = False\n",
    "\n",
    "numToFreeze = 300\n",
    "for layer in layer1.layers[:numToFreeze]:\n",
    "    layer1.trainable = False\n",
    "\n",
    "\n",
    "\n",
    "model.add(layer1)\n",
    "model.add(tf.keras.layers.BatchNormalization())\n",
    "\n",
    "model.add(Flatten())\n",
    "model.add(Dense(256, activation='relu',name = 'densefn'))\n",
    "model.add(Dropout(0.3))\n",
    "\n",
    "model.add(Dense(4))\n",
    "model.add(tf.keras.layers.Activation('softmax'))\n",
    "model.build(input_shape=(None, 224, 224, 3))\n",
    "model.summary()\n"
   ]
  },
  {
   "cell_type": "markdown",
   "metadata": {
    "nbpresent": {
     "id": "66140980-2aa4-457f-b1df-74c10c234cc2"
    }
   },
   "source": [
    "#### [5 points] Train Model"
   ]
  },
  {
   "cell_type": "code",
   "execution_count": 5,
   "metadata": {
    "nbpresent": {
     "id": "5c52eeb2-1092-4d45-9e16-02219c82cb5e"
    }
   },
   "outputs": [
    {
     "name": "stdout",
     "output_type": "stream",
     "text": [
      "22\n",
      "6\n",
      "21\n",
      "5\n"
     ]
    }
   ],
   "source": [
    "#FIT MODEL\n",
    "print(len(train_batches))\n",
    "print(len(valid_batches))\n",
    "\n",
    "STEP_SIZE_TRAIN=train_batches.n//train_batches.batch_size\n",
    "STEP_SIZE_VALID=valid_batches.n//valid_batches.batch_size\n",
    "\n",
    "print(STEP_SIZE_TRAIN)\n",
    "print(STEP_SIZE_VALID)\n"
   ]
  },
  {
   "cell_type": "code",
   "execution_count": 6,
   "metadata": {},
   "outputs": [],
   "source": [
    "opt = tf.optimizers.Adam(learning_rate=1e-3)\n",
    "lossfn = 'categorical_crossentropy'\n",
    "\n",
    "model.compile(optimizer=opt,\n",
    "                loss=lossfn,\n",
    "                metrics=['accuracy'])\n"
   ]
  },
  {
   "cell_type": "code",
   "execution_count": 7,
   "metadata": {},
   "outputs": [
    {
     "name": "stderr",
     "output_type": "stream",
     "text": [
      "c:\\users\\randr\\appdata\\local\\programs\\python\\python38\\lib\\site-packages\\keras_preprocessing\\image\\image_data_generator.py:720: UserWarning: This ImageDataGenerator specifies `featurewise_center`, but it hasn't been fit on any training data. Fit it first by calling `.fit(numpy_data)`.\n",
      "  warnings.warn('This ImageDataGenerator specifies '\n",
      "c:\\users\\randr\\appdata\\local\\programs\\python\\python38\\lib\\site-packages\\keras_preprocessing\\image\\image_data_generator.py:728: UserWarning: This ImageDataGenerator specifies `featurewise_std_normalization`, but it hasn't been fit on any training data. Fit it first by calling `.fit(numpy_data)`.\n",
      "  warnings.warn('This ImageDataGenerator specifies '\n"
     ]
    },
    {
     "name": "stdout",
     "output_type": "stream",
     "text": [
      "Epoch 1/100\n",
      "10/10 [==============================] - 20s 1s/step - loss: 11.1861 - accuracy: 0.2921 - val_loss: 17.8603 - val_accuracy: 0.4400\n",
      "Epoch 2/100\n",
      "10/10 [==============================] - 9s 885ms/step - loss: 6.7030 - accuracy: 0.5457 - val_loss: 13.3293 - val_accuracy: 0.5800\n",
      "Epoch 3/100\n",
      "10/10 [==============================] - 9s 900ms/step - loss: 6.6563 - accuracy: 0.5228 - val_loss: 15.4814 - val_accuracy: 0.4400\n",
      "Epoch 4/100\n",
      "10/10 [==============================] - 13s 1s/step - loss: 8.1831 - accuracy: 0.5361 - val_loss: 11.3597 - val_accuracy: 0.5400\n",
      "Epoch 5/100\n",
      "10/10 [==============================] - 13s 1s/step - loss: 3.4756 - accuracy: 0.5925 - val_loss: 8.0664 - val_accuracy: 0.4600\n",
      "Epoch 6/100\n",
      "10/10 [==============================] - 13s 1s/step - loss: 2.4449 - accuracy: 0.6740 - val_loss: 6.7060 - val_accuracy: 0.5400\n",
      "Epoch 7/100\n",
      "10/10 [==============================] - 14s 1s/step - loss: 1.7772 - accuracy: 0.6963 - val_loss: 4.8884 - val_accuracy: 0.6000\n",
      "Epoch 8/100\n",
      "10/10 [==============================] - 12s 1s/step - loss: 2.3194 - accuracy: 0.6479 - val_loss: 4.0896 - val_accuracy: 0.6000\n",
      "Epoch 9/100\n",
      "10/10 [==============================] - 12s 1s/step - loss: 2.2036 - accuracy: 0.6501 - val_loss: 3.4695 - val_accuracy: 0.5000\n",
      "Epoch 10/100\n",
      "10/10 [==============================] - 13s 1s/step - loss: 1.5735 - accuracy: 0.6771 - val_loss: 2.3786 - val_accuracy: 0.6600\n",
      "Epoch 11/100\n",
      "10/10 [==============================] - 11s 1s/step - loss: 1.7662 - accuracy: 0.5670 - val_loss: 3.3372 - val_accuracy: 0.5800\n",
      "Epoch 12/100\n",
      "10/10 [==============================] - 12s 1s/step - loss: 1.9127 - accuracy: 0.6465 - val_loss: 1.7049 - val_accuracy: 0.6600\n",
      "Epoch 13/100\n",
      "10/10 [==============================] - 14s 1s/step - loss: 0.9269 - accuracy: 0.7025 - val_loss: 1.6185 - val_accuracy: 0.5800\n",
      "Epoch 14/100\n",
      "10/10 [==============================] - 15s 2s/step - loss: 1.7625 - accuracy: 0.5921 - val_loss: 1.6733 - val_accuracy: 0.7000\n",
      "Epoch 15/100\n",
      "10/10 [==============================] - 15s 2s/step - loss: 1.2629 - accuracy: 0.6537 - val_loss: 1.4301 - val_accuracy: 0.6400\n",
      "Epoch 16/100\n",
      "10/10 [==============================] - 12s 1s/step - loss: 2.1675 - accuracy: 0.6926 - val_loss: 1.5231 - val_accuracy: 0.5800\n",
      "Epoch 17/100\n",
      "10/10 [==============================] - 12s 1s/step - loss: 1.2090 - accuracy: 0.6500 - val_loss: 2.0521 - val_accuracy: 0.5800\n",
      "Epoch 18/100\n",
      "10/10 [==============================] - 12s 1s/step - loss: 1.6979 - accuracy: 0.6209 - val_loss: 1.8344 - val_accuracy: 0.6600\n",
      "Epoch 19/100\n",
      "10/10 [==============================] - 12s 1s/step - loss: 1.5701 - accuracy: 0.5780 - val_loss: 1.4996 - val_accuracy: 0.5600\n",
      "Epoch 20/100\n",
      "10/10 [==============================] - 13s 1s/step - loss: 1.1663 - accuracy: 0.5401 - val_loss: 1.0136 - val_accuracy: 0.6400\n",
      "Epoch 21/100\n",
      "10/10 [==============================] - 13s 1s/step - loss: 0.8932 - accuracy: 0.6928 - val_loss: 1.1296 - val_accuracy: 0.5600\n",
      "Epoch 22/100\n",
      "10/10 [==============================] - 14s 1s/step - loss: 0.9625 - accuracy: 0.5553 - val_loss: 2.1656 - val_accuracy: 0.5000\n",
      "Epoch 23/100\n",
      "10/10 [==============================] - 11s 1s/step - loss: 1.0052 - accuracy: 0.7272 - val_loss: 1.9591 - val_accuracy: 0.5400\n",
      "Epoch 24/100\n",
      "10/10 [==============================] - 10s 1s/step - loss: 1.2589 - accuracy: 0.6368 - val_loss: 1.3636 - val_accuracy: 0.6000\n",
      "Epoch 25/100\n",
      "10/10 [==============================] - 11s 1s/step - loss: 0.9362 - accuracy: 0.6101 - val_loss: 0.8962 - val_accuracy: 0.6600\n",
      "Epoch 26/100\n",
      "10/10 [==============================] - 9s 900ms/step - loss: 0.8675 - accuracy: 0.7461 - val_loss: 0.9347 - val_accuracy: 0.5800\n",
      "Epoch 27/100\n",
      "10/10 [==============================] - 8s 826ms/step - loss: 0.8394 - accuracy: 0.6579 - val_loss: 0.9650 - val_accuracy: 0.6200\n",
      "Epoch 28/100\n",
      "10/10 [==============================] - 15s 2s/step - loss: 0.7906 - accuracy: 0.7021 - val_loss: 1.3534 - val_accuracy: 0.6200\n",
      "Epoch 29/100\n",
      "10/10 [==============================] - 16s 2s/step - loss: 0.8310 - accuracy: 0.7859 - val_loss: 1.5649 - val_accuracy: 0.5200\n",
      "Epoch 30/100\n",
      "10/10 [==============================] - 14s 1s/step - loss: 1.0296 - accuracy: 0.7028 - val_loss: 1.0578 - val_accuracy: 0.6600\n",
      "Epoch 31/100\n",
      "10/10 [==============================] - 15s 2s/step - loss: 0.9972 - accuracy: 0.6534 - val_loss: 1.2443 - val_accuracy: 0.6800\n",
      "Epoch 32/100\n",
      "10/10 [==============================] - 19s 2s/step - loss: 0.7644 - accuracy: 0.6157 - val_loss: 2.6134 - val_accuracy: 0.5800\n",
      "Epoch 33/100\n",
      "10/10 [==============================] - 20s 2s/step - loss: 1.2384 - accuracy: 0.5907 - val_loss: 0.9623 - val_accuracy: 0.7200\n",
      "Epoch 34/100\n",
      "10/10 [==============================] - 17s 2s/step - loss: 0.7309 - accuracy: 0.7500 - val_loss: 0.7141 - val_accuracy: 0.7200\n",
      "Epoch 35/100\n",
      "10/10 [==============================] - 11s 1s/step - loss: 0.8194 - accuracy: 0.6472 - val_loss: 0.7876 - val_accuracy: 0.7000\n",
      "Epoch 36/100\n",
      "10/10 [==============================] - 9s 902ms/step - loss: 1.0378 - accuracy: 0.6670 - val_loss: 1.1293 - val_accuracy: 0.6600\n",
      "Epoch 37/100\n",
      "10/10 [==============================] - 8s 801ms/step - loss: 1.4309 - accuracy: 0.7021 - val_loss: 0.9738 - val_accuracy: 0.6000\n",
      "Epoch 38/100\n",
      "10/10 [==============================] - 9s 906ms/step - loss: 0.8406 - accuracy: 0.6944 - val_loss: 0.8128 - val_accuracy: 0.7000\n",
      "Epoch 39/100\n",
      "10/10 [==============================] - 9s 979ms/step - loss: 0.6742 - accuracy: 0.7021 - val_loss: 1.0953 - val_accuracy: 0.5400\n",
      "Epoch 40/100\n",
      "10/10 [==============================] - 9s 915ms/step - loss: 0.9602 - accuracy: 0.6661 - val_loss: 1.1038 - val_accuracy: 0.6000\n",
      "Epoch 41/100\n",
      "10/10 [==============================] - 11s 1s/step - loss: 1.0899 - accuracy: 0.6341 - val_loss: 1.0446 - val_accuracy: 0.6200\n",
      "Epoch 42/100\n",
      "10/10 [==============================] - 8s 792ms/step - loss: 0.6056 - accuracy: 0.7073 - val_loss: 0.9131 - val_accuracy: 0.6400\n",
      "Epoch 43/100\n",
      "10/10 [==============================] - 8s 789ms/step - loss: 0.8776 - accuracy: 0.6273 - val_loss: 0.5203 - val_accuracy: 0.7600\n",
      "Epoch 44/100\n",
      "10/10 [==============================] - 9s 934ms/step - loss: 0.7856 - accuracy: 0.7078 - val_loss: 0.8016 - val_accuracy: 0.6200\n",
      "Epoch 45/100\n",
      "10/10 [==============================] - 8s 857ms/step - loss: 0.6987 - accuracy: 0.6683 - val_loss: 0.7231 - val_accuracy: 0.7400\n",
      "Epoch 46/100\n",
      "10/10 [==============================] - 10s 1s/step - loss: 0.9353 - accuracy: 0.6144 - val_loss: 1.2172 - val_accuracy: 0.6400\n",
      "Epoch 47/100\n",
      "10/10 [==============================] - 8s 825ms/step - loss: 0.6687 - accuracy: 0.7349 - val_loss: 0.8215 - val_accuracy: 0.6200\n",
      "Epoch 48/100\n",
      "10/10 [==============================] - 8s 773ms/step - loss: 0.8301 - accuracy: 0.6659 - val_loss: 0.9326 - val_accuracy: 0.5800\n",
      "Epoch 49/100\n",
      "10/10 [==============================] - 10s 1s/step - loss: 0.7806 - accuracy: 0.7247 - val_loss: 1.0047 - val_accuracy: 0.6600\n",
      "Epoch 50/100\n",
      "10/10 [==============================] - 9s 906ms/step - loss: 0.8037 - accuracy: 0.6712 - val_loss: 0.6787 - val_accuracy: 0.7000\n",
      "Epoch 51/100\n",
      "10/10 [==============================] - 7s 767ms/step - loss: 0.7073 - accuracy: 0.7122 - val_loss: 1.0680 - val_accuracy: 0.6000\n",
      "Epoch 52/100\n",
      "10/10 [==============================] - 10s 1s/step - loss: 0.9192 - accuracy: 0.5755 - val_loss: 0.8902 - val_accuracy: 0.6000\n",
      "Epoch 53/100\n",
      "10/10 [==============================] - 9s 881ms/step - loss: 0.7742 - accuracy: 0.6968 - val_loss: 1.2185 - val_accuracy: 0.6400\n",
      "Epoch 54/100\n",
      "10/10 [==============================] - 9s 883ms/step - loss: 0.9159 - accuracy: 0.6613 - val_loss: 0.7554 - val_accuracy: 0.6200\n",
      "Epoch 55/100\n",
      "10/10 [==============================] - 8s 825ms/step - loss: 0.7946 - accuracy: 0.6422 - val_loss: 1.0436 - val_accuracy: 0.6600\n",
      "Epoch 56/100\n",
      "10/10 [==============================] - 8s 847ms/step - loss: 0.9823 - accuracy: 0.5681 - val_loss: 0.8151 - val_accuracy: 0.7000\n",
      "Epoch 57/100\n",
      "10/10 [==============================] - 8s 804ms/step - loss: 0.6741 - accuracy: 0.6812 - val_loss: 0.9201 - val_accuracy: 0.6200\n",
      "Epoch 58/100\n"
     ]
    },
    {
     "name": "stdout",
     "output_type": "stream",
     "text": [
      "10/10 [==============================] - 8s 816ms/step - loss: 1.1121 - accuracy: 0.6889 - val_loss: 1.0416 - val_accuracy: 0.6000\n",
      "Epoch 59/100\n",
      "10/10 [==============================] - 7s 740ms/step - loss: 0.8823 - accuracy: 0.6260 - val_loss: 0.9657 - val_accuracy: 0.6200\n",
      "Epoch 60/100\n",
      "10/10 [==============================] - 8s 805ms/step - loss: 0.9060 - accuracy: 0.6702 - val_loss: 0.8714 - val_accuracy: 0.6600\n",
      "Epoch 61/100\n",
      "10/10 [==============================] - 9s 969ms/step - loss: 1.2807 - accuracy: 0.7335 - val_loss: 1.4239 - val_accuracy: 0.6400\n",
      "Epoch 62/100\n",
      "10/10 [==============================] - 12s 1s/step - loss: 0.7088 - accuracy: 0.6484 - val_loss: 0.9459 - val_accuracy: 0.6800\n",
      "Epoch 63/100\n",
      "10/10 [==============================] - 9s 941ms/step - loss: 0.9136 - accuracy: 0.6712 - val_loss: 0.8294 - val_accuracy: 0.6800\n",
      "Epoch 64/100\n",
      "10/10 [==============================] - 11s 1s/step - loss: 0.9343 - accuracy: 0.6112 - val_loss: 0.9656 - val_accuracy: 0.5400\n",
      "Epoch 65/100\n",
      "10/10 [==============================] - 11s 1s/step - loss: 1.0336 - accuracy: 0.6766 - val_loss: 0.9488 - val_accuracy: 0.7000\n",
      "Epoch 66/100\n",
      "10/10 [==============================] - 11s 1s/step - loss: 0.6899 - accuracy: 0.6707 - val_loss: 0.9076 - val_accuracy: 0.6800\n",
      "Epoch 67/100\n",
      "10/10 [==============================] - 11s 1s/step - loss: 0.5361 - accuracy: 0.8021 - val_loss: 1.4786 - val_accuracy: 0.6000\n",
      "Epoch 68/100\n",
      "10/10 [==============================] - 10s 970ms/step - loss: 0.7235 - accuracy: 0.7154 - val_loss: 0.8234 - val_accuracy: 0.6600\n",
      "Epoch 69/100\n",
      "10/10 [==============================] - 8s 791ms/step - loss: 0.6769 - accuracy: 0.6606 - val_loss: 1.1114 - val_accuracy: 0.6800\n",
      "Epoch 70/100\n",
      "10/10 [==============================] - 7s 748ms/step - loss: 1.0037 - accuracy: 0.6572 - val_loss: 0.8245 - val_accuracy: 0.6600\n",
      "Epoch 71/100\n",
      "10/10 [==============================] - 9s 930ms/step - loss: 0.7369 - accuracy: 0.7271 - val_loss: 0.6971 - val_accuracy: 0.6600\n",
      "Epoch 72/100\n",
      "10/10 [==============================] - 10s 1s/step - loss: 0.5634 - accuracy: 0.7524 - val_loss: 1.0764 - val_accuracy: 0.6600\n",
      "Epoch 73/100\n",
      "10/10 [==============================] - 9s 977ms/step - loss: 0.5563 - accuracy: 0.7602 - val_loss: 0.7580 - val_accuracy: 0.6400\n",
      "Epoch 74/100\n",
      "10/10 [==============================] - 9s 934ms/step - loss: 0.7361 - accuracy: 0.6933 - val_loss: 0.7349 - val_accuracy: 0.6600\n",
      "Epoch 75/100\n",
      "10/10 [==============================] - 8s 787ms/step - loss: 0.5359 - accuracy: 0.7685 - val_loss: 0.7738 - val_accuracy: 0.7800\n",
      "Epoch 76/100\n",
      "10/10 [==============================] - 10s 990ms/step - loss: 0.6231 - accuracy: 0.7051 - val_loss: 0.7890 - val_accuracy: 0.6000\n",
      "Epoch 77/100\n",
      "10/10 [==============================] - 9s 861ms/step - loss: 0.7373 - accuracy: 0.5989 - val_loss: 1.1434 - val_accuracy: 0.6200\n",
      "Epoch 78/100\n",
      "10/10 [==============================] - 11s 1s/step - loss: 0.8089 - accuracy: 0.7399 - val_loss: 0.8223 - val_accuracy: 0.7200\n",
      "Epoch 79/100\n",
      "10/10 [==============================] - 10s 1s/step - loss: 1.2138 - accuracy: 0.4877 - val_loss: 0.9912 - val_accuracy: 0.6800\n",
      "Epoch 80/100\n",
      "10/10 [==============================] - 9s 874ms/step - loss: 0.6446 - accuracy: 0.7496 - val_loss: 0.7931 - val_accuracy: 0.6800\n",
      "Epoch 81/100\n",
      "10/10 [==============================] - 9s 966ms/step - loss: 0.5733 - accuracy: 0.6854 - val_loss: 0.8871 - val_accuracy: 0.6400\n",
      "Epoch 82/100\n",
      "10/10 [==============================] - 10s 992ms/step - loss: 0.7374 - accuracy: 0.7526 - val_loss: 1.2662 - val_accuracy: 0.5600\n",
      "Epoch 83/100\n",
      "10/10 [==============================] - 9s 887ms/step - loss: 1.0368 - accuracy: 0.6228 - val_loss: 1.1921 - val_accuracy: 0.6200\n",
      "Epoch 84/100\n",
      "10/10 [==============================] - 10s 997ms/step - loss: 1.1117 - accuracy: 0.6328 - val_loss: 1.2377 - val_accuracy: 0.6800\n",
      "Epoch 85/100\n",
      "10/10 [==============================] - 8s 872ms/step - loss: 0.6095 - accuracy: 0.7835 - val_loss: 0.8076 - val_accuracy: 0.6400\n",
      "Epoch 86/100\n",
      "10/10 [==============================] - 11s 1s/step - loss: 0.6342 - accuracy: 0.7094 - val_loss: 0.6169 - val_accuracy: 0.6600\n",
      "Epoch 87/100\n",
      "10/10 [==============================] - 10s 972ms/step - loss: 0.4557 - accuracy: 0.7730 - val_loss: 0.8217 - val_accuracy: 0.6000\n",
      "Epoch 88/100\n",
      "10/10 [==============================] - 11s 1s/step - loss: 0.9412 - accuracy: 0.5997 - val_loss: 1.5799 - val_accuracy: 0.5400\n",
      "Epoch 89/100\n",
      "10/10 [==============================] - 9s 904ms/step - loss: 0.6677 - accuracy: 0.6731 - val_loss: 0.8998 - val_accuracy: 0.6000\n",
      "Epoch 90/100\n",
      "10/10 [==============================] - 11s 1s/step - loss: 0.6041 - accuracy: 0.7175 - val_loss: 0.9586 - val_accuracy: 0.6400\n",
      "Epoch 91/100\n",
      "10/10 [==============================] - 10s 1s/step - loss: 0.6531 - accuracy: 0.7192 - val_loss: 0.8476 - val_accuracy: 0.7000\n",
      "Epoch 92/100\n",
      "10/10 [==============================] - 10s 1s/step - loss: 0.6011 - accuracy: 0.7108 - val_loss: 0.5521 - val_accuracy: 0.7200\n",
      "Epoch 93/100\n",
      "10/10 [==============================] - 11s 1s/step - loss: 0.8786 - accuracy: 0.7021 - val_loss: 0.7323 - val_accuracy: 0.7000\n",
      "Epoch 94/100\n",
      "10/10 [==============================] - 9s 949ms/step - loss: 1.0615 - accuracy: 0.7400 - val_loss: 0.9941 - val_accuracy: 0.6200\n",
      "Epoch 95/100\n",
      "10/10 [==============================] - 8s 797ms/step - loss: 0.6019 - accuracy: 0.8082 - val_loss: 0.7321 - val_accuracy: 0.6400\n",
      "Epoch 96/100\n",
      "10/10 [==============================] - 8s 774ms/step - loss: 0.6243 - accuracy: 0.7107 - val_loss: 0.9550 - val_accuracy: 0.6200\n",
      "Epoch 97/100\n",
      "10/10 [==============================] - 9s 857ms/step - loss: 0.7058 - accuracy: 0.6960 - val_loss: 0.8479 - val_accuracy: 0.6000\n",
      "Epoch 98/100\n",
      "10/10 [==============================] - 9s 911ms/step - loss: 0.7446 - accuracy: 0.7295 - val_loss: 0.5946 - val_accuracy: 0.7400\n",
      "Epoch 99/100\n",
      "10/10 [==============================] - 10s 1s/step - loss: 0.8301 - accuracy: 0.6734 - val_loss: 0.9250 - val_accuracy: 0.6200\n",
      "Epoch 100/100\n",
      "10/10 [==============================] - 10s 1s/step - loss: 0.6043 - accuracy: 0.6999 - val_loss: 0.8843 - val_accuracy: 0.6000\n"
     ]
    }
   ],
   "source": [
    "start = time.time()\n",
    "history = model.fit(\n",
    "    x = train_batches, \n",
    "    epochs=100, \n",
    "    validation_data= valid_batches, \n",
    "    steps_per_epoch = 10,\n",
    "    batch_size=10,\n",
    "    validation_steps = STEP_SIZE_VALID\n",
    ")\n",
    "end = time.time()\n"
   ]
  },
  {
   "cell_type": "code",
   "execution_count": 8,
   "metadata": {},
   "outputs": [
    {
     "name": "stdout",
     "output_type": "stream",
     "text": [
      "Model RunTime (seconds): 1060.2564942836761\n"
     ]
    }
   ],
   "source": [
    "print(\"Model RunTime (seconds):\",end - start)"
   ]
  },
  {
   "cell_type": "markdown",
   "metadata": {
    "nbpresent": {
     "id": "66140980-2aa4-457f-b1df-74c10c234cc2"
    }
   },
   "source": [
    "#### [5 points] Plot Accuracy and Loss During Training"
   ]
  },
  {
   "cell_type": "code",
   "execution_count": 9,
   "metadata": {
    "nbpresent": {
     "id": "ff342098-784a-4e20-ac34-b74ca8ebe839"
    }
   },
   "outputs": [
    {
     "data": {
      "text/plain": [
       "<matplotlib.legend.Legend at 0x1d41362eca0>"
      ]
     },
     "execution_count": 9,
     "metadata": {},
     "output_type": "execute_result"
    },
    {
     "data": {
      "image/png": "[encoded data removed]",
      "text/plain": [
       "<Figure size 432x288 with 1 Axes>"
      ]
     },
     "metadata": {
      "needs_background": "light"
     },
     "output_type": "display_data"
    }
   ],
   "source": [
    "import matplotlib.pyplot as plt\n",
    "\n",
    "#raise NotImplementedError(\"Plot the accuracy and the loss during training\")\n",
    "\n",
    "plt.plot(history.history['accuracy'], label='accuracy')\n",
    "plt.plot(history.history['val_accuracy'], label = 'validation accuracy')\n",
    "plt.xlabel('Epoch')\n",
    "plt.ylabel('Accuracy')\n",
    "plt.ylim([0, 1])\n",
    "plt.legend(loc='lower right')"
   ]
  },
  {
   "cell_type": "code",
   "execution_count": 10,
   "metadata": {},
   "outputs": [
    {
     "data": {
      "text/plain": [
       "<matplotlib.legend.Legend at 0x1d4132b7fa0>"
      ]
     },
     "execution_count": 10,
     "metadata": {},
     "output_type": "execute_result"
    },
    {
     "data": {
      "image/png": "[encoded data removed]",
      "text/plain": [
       "<Figure size 432x288 with 1 Axes>"
      ]
     },
     "metadata": {
      "needs_background": "light"
     },
     "output_type": "display_data"
    }
   ],
   "source": [
    "plt.plot(history.history['loss'], label = 'loss')\n",
    "plt.plot(history.history['val_loss'], label = 'val_loss')\n",
    "plt.xlabel('Epoch')\n",
    "plt.ylabel('Loss')\n",
    "plt.legend(loc='lower right')"
   ]
  },
  {
   "cell_type": "markdown",
   "metadata": {
    "nbpresent": {
     "id": "66140980-2aa4-457f-b1df-74c10c234cc2"
    }
   },
   "source": [
    "#### Testing Model"
   ]
  },
  {
   "cell_type": "code",
   "execution_count": 11,
   "metadata": {},
   "outputs": [
    {
     "name": "stdout",
     "output_type": "stream",
     "text": [
      "Found 36 images belonging to 4 classes.\n",
      "36\n"
     ]
    },
    {
     "name": "stderr",
     "output_type": "stream",
     "text": [
      "c:\\users\\randr\\appdata\\local\\programs\\python\\python38\\lib\\site-packages\\tensorflow\\python\\keras\\engine\\training.py:1877: UserWarning: `Model.evaluate_generator` is deprecated and will be removed in a future version. Please use `Model.evaluate`, which supports generators.\n",
      "  warnings.warn('`Model.evaluate_generator` is deprecated and '\n"
     ]
    },
    {
     "name": "stdout",
     "output_type": "stream",
     "text": [
      "36/36 [==============================] - 3s 78ms/step - loss: 1.5781 - accuracy: 0.7500 0s - loss: 1.0712 - accu\n",
      "Test loss: 1.5781127214431763\n",
      "Test accuracy: 0.75\n"
     ]
    }
   ],
   "source": [
    "test_datagen = ImageDataGenerator(rescale=1. / 255)\n",
    "\n",
    "eval_generator = test_datagen.flow_from_directory(TEST_DIR,target_size=IMAGE_SIZE,\n",
    "                                                  batch_size=1,shuffle=False,seed=42,class_mode=\"categorical\")\n",
    "eval_generator.reset()\n",
    "print(len(eval_generator))\n",
    "x = model.evaluate_generator(eval_generator,steps = np.ceil(len(eval_generator)),\n",
    "                           use_multiprocessing = False,verbose = 1,workers=1)\n",
    "print('Test loss:' , x[0])\n",
    "print('Test accuracy:',x[1])"
   ]
  },
  {
   "cell_type": "markdown",
   "metadata": {
    "nbpresent": {
     "id": "66140980-2aa4-457f-b1df-74c10c234cc2"
    }
   },
   "source": [
    "## [10 points] TSNE Plot\n",
    "t-Distributed Stochastic Neighbor Embedding (t-SNE) is a widely used technique for dimensionality reduction that is particularly well suited for the visualization of high-dimensional datasets. After training is complete, extract features from a specific deep layer of your choice, use t-SNE to reduce the dimensionality of your extracted features to 2 dimensions and plot the resulting 2D features."
   ]
  },
  {
   "cell_type": "code",
   "execution_count": 12,
   "metadata": {
    "scrolled": true
   },
   "outputs": [
    {
     "name": "stdout",
     "output_type": "stream",
     "text": [
      "Found 270 images belonging to 4 classes.\n",
      "Model: \"model\"\n",
      "_________________________________________________________________\n",
      "Layer (type)                 Output Shape              Param #   \n",
      "=================================================================\n",
      "inception_v3_input (InputLay [(None, 224, 224, 3)]     0         \n",
      "_________________________________________________________________\n",
      "inception_v3 (Functional)    (None, 5, 5, 2048)        21802784  \n",
      "_________________________________________________________________\n",
      "batch_normalization_94 (Batc (None, 5, 5, 2048)        8192      \n",
      "_________________________________________________________________\n",
      "flatten (Flatten)            (None, 51200)             0         \n",
      "_________________________________________________________________\n",
      "densefn (Dense)              (None, 256)               13107456  \n",
      "=================================================================\n",
      "Total params: 34,918,432\n",
      "Trainable params: 13,111,552\n",
      "Non-trainable params: 21,806,880\n",
      "_________________________________________________________________\n"
     ]
    }
   ],
   "source": [
    "intermediate_layer_model = models.Model(inputs=model.input,\n",
    "                                        outputs=model.get_layer('densefn').output)\n",
    "tsne_eval_generator = test_datagen.flow_from_directory(DATASET_PATH,target_size=IMAGE_SIZE,\n",
    "                                                  batch_size=1,shuffle=False,seed=42,class_mode=\"categorical\")\n",
    "\n",
    "\n",
    "intermediate_layer_model.summary()"
   ]
  },
  {
   "cell_type": "code",
   "execution_count": 13,
   "metadata": {},
   "outputs": [
    {
     "name": "stdout",
     "output_type": "stream",
     "text": [
      "[t-SNE] Computing 91 nearest neighbors...\n",
      "[t-SNE] Indexed 270 samples in 0.000s...\n",
      "[t-SNE] Computed neighbors for 270 samples in 0.006s...\n",
      "[t-SNE] Computed conditional probabilities for sample 270 / 270\n",
      "[t-SNE] Mean sigma: 28.250594\n",
      "[t-SNE] KL divergence after 250 iterations with early exaggeration: 61.441231\n",
      "[t-SNE] KL divergence after 1000 iterations: 0.533138\n"
     ]
    }
   ],
   "source": [
    "outputs = intermediate_layer_model.predict(tsne_eval_generator)\n",
    "predictions = model.predict(tsne_eval_generator)\n",
    "tsne = TSNE(n_components=2, verbose=1)\n",
    "tsne_proj = tsne.fit_transform(outputs)\n",
    "pred_value = []\n",
    "for i in range(len(predictions)):\n",
    "    pred_value.append(np.argmax(predictions[i]))"
   ]
  },
  {
   "cell_type": "code",
   "execution_count": 14,
   "metadata": {},
   "outputs": [
    {
     "data": {
      "text/plain": [
       "<matplotlib.legend.Legend at 0x1d420996520>"
      ]
     },
     "execution_count": 14,
     "metadata": {},
     "output_type": "execute_result"
    },
    {
     "data": {
      "image/png": "[encoded data removed]",
      "text/plain": [
       "<Figure size 432x288 with 1 Axes>"
      ]
     },
     "metadata": {
      "needs_background": "light"
     },
     "output_type": "display_data"
    }
   ],
   "source": [
    "c = tsne_eval_generator.labels\n",
    "\n",
    "scat=sns.scatterplot(x=tsne_proj[:,0],y=tsne_proj[:,1], hue=c, palette=sns.color_palette(\"hls\",4))\n",
    "handles, labels = scat.get_legend_handles_labels()\n",
    "scat.legend(handles, ['Normal', 'COVID-19','Pneumonia_bac', 'Pneumonia_vir'])"
   ]
  }
 ],
 "metadata": {
  "kernelspec": {
   "display_name": "Python 3",
   "language": "python",
   "name": "python3"
  },
  "language_info": {
   "codemirror_mode": {
    "name": "ipython",
    "version": 3
   },
   "file_extension": ".py",
   "mimetype": "text/x-python",
   "name": "python",
   "nbconvert_exporter": "python",
   "pygments_lexer": "ipython3",
   "version": "3.8.8"
  },
  "latex_envs": {
   "LaTeX_envs_menu_present": true,
   "autoclose": false,
   "autocomplete": true,
   "bibliofile": "biblio.bib",
   "cite_by": "apalike",
   "current_citInitial": 1,
   "eqLabelWithNumbers": true,
   "eqNumInitial": 1,
   "hotkeys": {
    "equation": "Ctrl-E",
    "itemize": "Ctrl-I"
   },
   "labels_anchors": false,
   "latex_user_defs": false,
   "report_style_numbering": false,
   "user_envs_cfg": false
  },
  "toc": {
   "base_numbering": 1,
   "nav_menu": {},
   "number_sections": true,
   "sideBar": true,
   "skip_h1_title": false,
   "title_cell": "Table of Contents",
   "title_sidebar": "Contents",
   "toc_cell": false,
   "toc_position": {},
   "toc_section_display": true,
   "toc_window_display": false
  },
  "varInspector": {
   "cols": {
    "lenName": 16,
    "lenType": 16,
    "lenVar": 40
   },
   "kernels_config": {
    "python": {
     "delete_cmd_postfix": "",
     "delete_cmd_prefix": "del ",
     "library": "var_list.py",
     "varRefreshCmd": "print(var_dic_list())"
    },
    "r": {
     "delete_cmd_postfix": ") ",
     "delete_cmd_prefix": "rm(",
     "library": "var_list.r",
     "varRefreshCmd": "cat(var_dic_list()) "
    }
   },
   "types_to_exclude": [
    "module",
    "function",
    "builtin_function_or_method",
    "instance",
    "_Feature"
   ],
   "window_display": false
  }
 },
 "nbformat": 4,
 "nbformat_minor": 4
}
